{
 "cells": [
  {
   "cell_type": "code",
   "execution_count": 6,
   "metadata": {},
   "outputs": [],
   "source": [
    "import numpy as np\n",
    "import pandas as pd\n",
    "import torch\n",
    "import copy\n",
    "import logging\n",
    "import os\n",
    "import time\n",
    "from pathlib import Path\n",
    "import glob\n",
    "import numpy as np\n",
    "\n",
    "import click\n",
    "import torch\n",
    "import torch.nn as nn\n",
    "import torch.optim as optim\n",
    "from dotenv import find_dotenv, load_dotenv\n",
    "from torch.optim import lr_scheduler\n",
    "from torchvision import datasets, models, transforms\n"
   ]
  },
  {
   "cell_type": "code",
   "execution_count": 7,
   "metadata": {},
   "outputs": [],
   "source": [
    "from src.models.predict_model import get_most_recent_path, prepare_loaders, predict_model"
   ]
  },
  {
   "cell_type": "code",
   "execution_count": 8,
   "metadata": {},
   "outputs": [],
   "source": [
    "data_dir = \"data/processed/labeled-images/test\"\n",
    "model_path = get_most_recent_path(\"../../models\")"
   ]
  },
  {
   "cell_type": "code",
   "execution_count": 9,
   "metadata": {},
   "outputs": [
    {
     "ename": "AttributeError",
     "evalue": "Can't get attribute 'ResNetModule' on <module '__main__'>",
     "output_type": "error",
     "traceback": [
      "\u001b[0;31m---------------------------------------------------------------------------\u001b[0m",
      "\u001b[0;31mAttributeError\u001b[0m                            Traceback (most recent call last)",
      "\u001b[1;32m/Users/shinkovskiymichael/D/Development/repos/mlops-new/notebooks/visualization/show_predictions.ipynb Cell 4'\u001b[0m in \u001b[0;36m<cell line: 1>\u001b[0;34m()\u001b[0m\n\u001b[0;32m----> <a href='vscode-notebook-cell:/Users/shinkovskiymichael/D/Development/repos/mlops-new/notebooks/visualization/show_predictions.ipynb#ch0000003?line=0'>1</a>\u001b[0m model \u001b[39m=\u001b[39m torch\u001b[39m.\u001b[39;49mload(model_path)\n\u001b[1;32m      <a href='vscode-notebook-cell:/Users/shinkovskiymichael/D/Development/repos/mlops-new/notebooks/visualization/show_predictions.ipynb#ch0000003?line=1'>2</a>\u001b[0m \u001b[39mprint\u001b[39m(model)\n\u001b[1;32m      <a href='vscode-notebook-cell:/Users/shinkovskiymichael/D/Development/repos/mlops-new/notebooks/visualization/show_predictions.ipynb#ch0000003?line=3'>4</a>\u001b[0m dataloader, dataset_size \u001b[39m=\u001b[39m prepare_loaders(data_dir)\n",
      "File \u001b[0;32m~/anaconda3/envs/mlops-new/lib/python3.10/site-packages/torch/serialization.py:712\u001b[0m, in \u001b[0;36mload\u001b[0;34m(f, map_location, pickle_module, **pickle_load_args)\u001b[0m\n\u001b[1;32m    <a href='file:///Users/shinkovskiymichael/anaconda3/envs/mlops-new/lib/python3.10/site-packages/torch/serialization.py?line=709'>710</a>\u001b[0m             opened_file\u001b[39m.\u001b[39mseek(orig_position)\n\u001b[1;32m    <a href='file:///Users/shinkovskiymichael/anaconda3/envs/mlops-new/lib/python3.10/site-packages/torch/serialization.py?line=710'>711</a>\u001b[0m             \u001b[39mreturn\u001b[39;00m torch\u001b[39m.\u001b[39mjit\u001b[39m.\u001b[39mload(opened_file)\n\u001b[0;32m--> <a href='file:///Users/shinkovskiymichael/anaconda3/envs/mlops-new/lib/python3.10/site-packages/torch/serialization.py?line=711'>712</a>\u001b[0m         \u001b[39mreturn\u001b[39;00m _load(opened_zipfile, map_location, pickle_module, \u001b[39m*\u001b[39;49m\u001b[39m*\u001b[39;49mpickle_load_args)\n\u001b[1;32m    <a href='file:///Users/shinkovskiymichael/anaconda3/envs/mlops-new/lib/python3.10/site-packages/torch/serialization.py?line=712'>713</a>\u001b[0m \u001b[39mreturn\u001b[39;00m _legacy_load(opened_file, map_location, pickle_module, \u001b[39m*\u001b[39m\u001b[39m*\u001b[39mpickle_load_args)\n",
      "File \u001b[0;32m~/anaconda3/envs/mlops-new/lib/python3.10/site-packages/torch/serialization.py:1046\u001b[0m, in \u001b[0;36m_load\u001b[0;34m(zip_file, map_location, pickle_module, pickle_file, **pickle_load_args)\u001b[0m\n\u001b[1;32m   <a href='file:///Users/shinkovskiymichael/anaconda3/envs/mlops-new/lib/python3.10/site-packages/torch/serialization.py?line=1043'>1044</a>\u001b[0m unpickler \u001b[39m=\u001b[39m UnpicklerWrapper(data_file, \u001b[39m*\u001b[39m\u001b[39m*\u001b[39mpickle_load_args)\n\u001b[1;32m   <a href='file:///Users/shinkovskiymichael/anaconda3/envs/mlops-new/lib/python3.10/site-packages/torch/serialization.py?line=1044'>1045</a>\u001b[0m unpickler\u001b[39m.\u001b[39mpersistent_load \u001b[39m=\u001b[39m persistent_load\n\u001b[0;32m-> <a href='file:///Users/shinkovskiymichael/anaconda3/envs/mlops-new/lib/python3.10/site-packages/torch/serialization.py?line=1045'>1046</a>\u001b[0m result \u001b[39m=\u001b[39m unpickler\u001b[39m.\u001b[39;49mload()\n\u001b[1;32m   <a href='file:///Users/shinkovskiymichael/anaconda3/envs/mlops-new/lib/python3.10/site-packages/torch/serialization.py?line=1047'>1048</a>\u001b[0m torch\u001b[39m.\u001b[39m_utils\u001b[39m.\u001b[39m_validate_loaded_sparse_tensors()\n\u001b[1;32m   <a href='file:///Users/shinkovskiymichael/anaconda3/envs/mlops-new/lib/python3.10/site-packages/torch/serialization.py?line=1049'>1050</a>\u001b[0m \u001b[39mreturn\u001b[39;00m result\n",
      "File \u001b[0;32m~/anaconda3/envs/mlops-new/lib/python3.10/site-packages/torch/serialization.py:1039\u001b[0m, in \u001b[0;36m_load.<locals>.UnpicklerWrapper.find_class\u001b[0;34m(self, mod_name, name)\u001b[0m\n\u001b[1;32m   <a href='file:///Users/shinkovskiymichael/anaconda3/envs/mlops-new/lib/python3.10/site-packages/torch/serialization.py?line=1036'>1037</a>\u001b[0m         \u001b[39mpass\u001b[39;00m\n\u001b[1;32m   <a href='file:///Users/shinkovskiymichael/anaconda3/envs/mlops-new/lib/python3.10/site-packages/torch/serialization.py?line=1037'>1038</a>\u001b[0m mod_name \u001b[39m=\u001b[39m load_module_mapping\u001b[39m.\u001b[39mget(mod_name, mod_name)\n\u001b[0;32m-> <a href='file:///Users/shinkovskiymichael/anaconda3/envs/mlops-new/lib/python3.10/site-packages/torch/serialization.py?line=1038'>1039</a>\u001b[0m \u001b[39mreturn\u001b[39;00m \u001b[39msuper\u001b[39;49m()\u001b[39m.\u001b[39;49mfind_class(mod_name, name)\n",
      "\u001b[0;31mAttributeError\u001b[0m: Can't get attribute 'ResNetModule' on <module '__main__'>"
     ]
    }
   ],
   "source": [
    "model = torch.load(model_path)\n",
    "print(model)\n",
    "\n",
    "dataloader, dataset_size = prepare_loaders(data_dir)\n",
    "predictions = predict_model(model, dataloader, dataset_size)"
   ]
  },
  {
   "cell_type": "code",
   "execution_count": null,
   "metadata": {},
   "outputs": [],
   "source": []
  }
 ],
 "metadata": {
  "interpreter": {
   "hash": "e9f47435ec7fc72d9b206f25c823a92b8c51fe7a348721a3f553575f3bdf46ac"
  },
  "kernelspec": {
   "display_name": "Python 3.10.4 ('mlops-new')",
   "language": "python",
   "name": "python3"
  },
  "language_info": {
   "codemirror_mode": {
    "name": "ipython",
    "version": 3
   },
   "file_extension": ".py",
   "mimetype": "text/x-python",
   "name": "python",
   "nbconvert_exporter": "python",
   "pygments_lexer": "ipython3",
   "version": "3.10.4"
  },
  "orig_nbformat": 4
 },
 "nbformat": 4,
 "nbformat_minor": 2
}
